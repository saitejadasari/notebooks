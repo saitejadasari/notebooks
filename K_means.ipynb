{
  "nbformat": 4,
  "nbformat_minor": 0,
  "metadata": {
    "colab": {
      "provenance": [],
      "authorship_tag": "ABX9TyNb24w3NWjEUHsktsuDE2Bn"
    },
    "kernelspec": {
      "name": "python3",
      "display_name": "Python 3"
    },
    "language_info": {
      "name": "python"
    }
  },
  "cells": [
    {
      "cell_type": "code",
      "execution_count": 1,
      "metadata": {
        "id": "6T-9SYNbdboE"
      },
      "outputs": [],
      "source": [
        "# Imports\n",
        "import math\n",
        "import random"
      ]
    },
    {
      "cell_type": "code",
      "source": [
        "def generate_seed_points(seq_points, n_clusters):\n",
        "  s_x = [x for (x, y) in seq_points]\n",
        "  s_y = [y for (x, y) in seq_points]\n",
        "  n_p = len(seq_points)\n",
        "  x_max = max(s_x)\n",
        "  x_min = min(s_x)\n",
        "  y_max = max(s_y)\n",
        "  y_min = min(s_y)\n",
        "  size_x = (x_max - x_min)/n_clusters\n",
        "  size_y = (y_max - y_min)/n_clusters\n",
        "  n_macro = n_clusters * n_clusters\n",
        "  delta = average_density(seq_points, n_macro)\n",
        "  print(\"x_max\", x_max, \"x_min\", x_min)\n",
        "  print(\"y_max\", y_max, \"y_min\", y_min)\n",
        "  print(\"size_x\", size_x, \"size_y\", size_y)\n",
        "  print(\"number of macroblocks\", n_macro, \"Average Density\", delta)\n",
        "  s_higher = []\n",
        "\n",
        "  for i in range(n_clusters):\n",
        "    x_low = x_min + (i * size_x)\n",
        "    x_high = x_low + size_x\n",
        "    x_mid = (x_high + x_low) / 2\n",
        "    for j in range(n_clusters):\n",
        "      y_low = y_min + (j * size_y)\n",
        "      y_high = y_low + size_y\n",
        "      y_mid = (y_low + y_high)/2\n",
        "      n_p = points_in_macroblocks(seq_points, x_low, y_low, x_high, y_high)\n",
        "      print(\"points in macroblock for\", i, j, \"is\", n_p)\n",
        "      if n_p > delta:\n",
        "        s_higher.append((x_mid, y_mid))\n",
        "    \n",
        "  \n",
        "  s_seed = []\n",
        "  for i in range(n_clusters):\n",
        "    next_seed = randomly_select(s_higher)\n",
        "    s_seed.append(next_seed)\n",
        "    s_higher.remove(next_seed)\n",
        "  \n",
        "  radius = min(size_x, size_y)/n_clusters\n",
        "\n",
        "  print(\"s_seed\", s_seed, \"radius\", radius)\n",
        "  for i in range(n_clusters):\n",
        "    (x_i, y_i) = s_seed[i]\n",
        "    for j in range(n_clusters):\n",
        "      if not i == j:\n",
        "        (x_j, y_j) = s_seed[j]\n",
        "        d_i_j = math.sqrt(math.pow(x_i - x_j, 2) + math.pow(y_i - y_j, 2))\n",
        "        print(\"distance\", d_i_j)\n",
        "        if d_i_j > 2*radius:\n",
        "          radius = d_i_j/2\n",
        "\n",
        "  print(\"radius\", radius)\n",
        "  return (s_seed, radius)\n"
      ],
      "metadata": {
        "id": "fQiwgzE-8z_L"
      },
      "execution_count": 2,
      "outputs": []
    },
    {
      "cell_type": "code",
      "source": [
        "def average_density(seq_points, n_macro):\n",
        "  return len(seq_points)/n_macro"
      ],
      "metadata": {
        "id": "WOx1gHrnLOYx"
      },
      "execution_count": 3,
      "outputs": []
    },
    {
      "cell_type": "code",
      "source": [
        "def randomly_select(s_higher):\n",
        "  rand_index = random.randint(0, len(s_higher)-1)\n",
        "  # print(\"s_higher\", s_higher, \"rand_index\", rand_index)\n",
        "  return s_higher[rand_index]"
      ],
      "metadata": {
        "id": "w1w59fqHiHrE"
      },
      "execution_count": 4,
      "outputs": []
    },
    {
      "cell_type": "code",
      "source": [
        "def points_in_macroblocks(seq_points, x_low, y_low, x_high, y_high):\n",
        "  # print(\"x_low\", x_low, \"y_low\", y_low, \"x_high\", x_high, \"y_high\", y_high)\n",
        "  n_macro = 0\n",
        "  for (x,y) in seq_points:\n",
        "    # print(\"x\", x, \"y\", y)\n",
        "    if (x >= x_low) and (x < x_high) and (y >= y_low) and (y < y_high):      \n",
        "      n_macro += 1\n",
        "  # print(\"n_macro\", n_macro)\n",
        "  return n_macro\n"
      ],
      "metadata": {
        "id": "nfsty3378z8j"
      },
      "execution_count": 5,
      "outputs": []
    },
    {
      "cell_type": "code",
      "source": [
        "def k_means_clustering(seq_points, n_clusters, max_iter, epi):\n",
        "  n_p = len(seq_points)\n",
        "  (s_seed, radius) = generate_seed_points(seq_points, n_clusters)\n",
        "  print(\"s_seed\", s_seed, \"radius\", radius)\n",
        "  count = 1\n",
        "  stabilized = False\n",
        "\n",
        "  while((count <= max_iter) and not stabilized):\n",
        "    print(\"In Iter\", count, \"seed points/centroids are\", s_seed, \"radius is\", radius)\n",
        "    clusters = [[]]\n",
        "    outliers = seq_points.copy()\n",
        "    s_out = seq_points\n",
        "    i = 1\n",
        "    centroids_new = []\n",
        "    for i in range(n_clusters):\n",
        "      # print(\"i val\", i)\n",
        "      (cx, cy) = s_seed[i]\n",
        "      for j in range(n_p):\n",
        "        (x, y) = seq_points[j]\n",
        "        d_i_j = math.sqrt(math.pow(cx - x, 2) + math.pow(cy - y, 2))\n",
        "        print(f\"distance of ({x},{y}) from centorid ({cx}, {cy}) is {d_i_j}\")\n",
        "        if d_i_j < radius:\n",
        "          if i >= len(clusters):\n",
        "            clusters.insert(1, [])\n",
        "          clusters[i].append((x, y))\n",
        "          outliers.remove((x, y))\n",
        "          print(\"points in cluster\", i, \"is\", clusters[i])\n",
        "      \n",
        "      cx_i_new = sum([x for (x, y) in clusters[i]])/len(clusters[i])\n",
        "      cy_i_new = sum([y for (x, y) in clusters[i]])/len(clusters[i])\n",
        "      centroids_new.append((cx_i_new, cy_i_new))\n",
        "\n",
        "      print(\"cluster\", i, \"new centroid\", (cx_i_new, cy_i_new))\n",
        "\n",
        "    print(\"current outliers\", outliers)\n",
        "    stabilized = True\n",
        "\n",
        "    for i in range(len(clusters)):\n",
        "      (cx, cy) = s_seed[i]\n",
        "      (cx_new, cy_new) = centroids_new[i]\n",
        "      centroid_shift = math.sqrt(math.pow(cx - cx_new, 2) + math.pow(cy - cy_new, 2))\n",
        "      print(\"Centroid shift\", centroid_shift)\n",
        "      if centroid_shift > epi:\n",
        "        stabilized = False\n",
        "        s_seed[i] = centroids_new[i]\n",
        "\n",
        "    print()\n",
        "    count += 1\n",
        "  \n",
        "  print(\"Final clusters\")\n",
        "  for i in range(len(clusters)):\n",
        "    display(clusters[i])\n",
        "  print(\"Final outliers\")\n",
        "  display(outliers)\n"
      ],
      "metadata": {
        "id": "MC05EviF80BW"
      },
      "execution_count": 6,
      "outputs": []
    },
    {
      "cell_type": "code",
      "source": [
        "seq_points = [(1, 2), (2, 3), (2,2), (5, 6), (6, 7), (6, 8), (7, 11), (1, 1)]\n",
        "n_clusters = 2\n",
        "max_iter = 10\n",
        "epi = 1\n",
        "k_means_clustering(seq_points, n_clusters, max_iter, epi)"
      ],
      "metadata": {
        "colab": {
          "base_uri": "https://localhost:8080/",
          "height": 763
        },
        "id": "gG9SyH028z6X",
        "outputId": "26ccd2b0-6186-4f0e-b305-dd0097c11b7a"
      },
      "execution_count": 7,
      "outputs": [
        {
          "output_type": "stream",
          "name": "stdout",
          "text": [
            "x_max 7 x_min 1\n",
            "y_max 11 y_min 1\n",
            "size_x 3.0 size_y 5.0\n",
            "number of macroblocks 4 Average Density 2.0\n",
            "points in macroblock for 0 0 is 4\n",
            "points in macroblock for 0 1 is 0\n",
            "points in macroblock for 1 0 is 0\n",
            "points in macroblock for 1 1 is 3\n",
            "s_seed [(2.5, 3.5), (5.5, 8.5)] radius 1.5\n",
            "distance 5.830951894845301\n",
            "distance 5.830951894845301\n",
            "radius 1.5\n",
            "s_seed [(2.5, 3.5), (5.5, 8.5)] radius 1.5\n",
            "In Iter 1 seed points/centroids are [(2.5, 3.5), (5.5, 8.5)] radius is 1.5\n",
            "distance of (1,2) from centorid (2.5, 3.5) is 2.1213203435596424\n",
            "distance of (2,3) from centorid (2.5, 3.5) is 0.7071067811865476\n",
            "points in cluster 0 is [(2, 3)]\n",
            "distance of (2,2) from centorid (2.5, 3.5) is 1.5811388300841898\n",
            "distance of (5,6) from centorid (2.5, 3.5) is 3.5355339059327378\n",
            "distance of (6,7) from centorid (2.5, 3.5) is 4.949747468305833\n",
            "distance of (6,8) from centorid (2.5, 3.5) is 5.70087712549569\n",
            "distance of (7,11) from centorid (2.5, 3.5) is 8.74642784226795\n",
            "distance of (1,1) from centorid (2.5, 3.5) is 2.9154759474226504\n",
            "cluster 0 new centroid (2.0, 3.0)\n",
            "distance of (1,2) from centorid (5.5, 8.5) is 7.905694150420948\n",
            "distance of (2,3) from centorid (5.5, 8.5) is 6.519202405202649\n",
            "distance of (2,2) from centorid (5.5, 8.5) is 7.3824115301167\n",
            "distance of (5,6) from centorid (5.5, 8.5) is 2.5495097567963922\n",
            "distance of (6,7) from centorid (5.5, 8.5) is 1.5811388300841898\n",
            "distance of (6,8) from centorid (5.5, 8.5) is 0.7071067811865476\n",
            "points in cluster 1 is [(6, 8)]\n",
            "distance of (7,11) from centorid (5.5, 8.5) is 2.9154759474226504\n",
            "distance of (1,1) from centorid (5.5, 8.5) is 8.74642784226795\n",
            "cluster 1 new centroid (6.0, 8.0)\n",
            "current outliers [(1, 2), (2, 2), (5, 6), (6, 7), (7, 11), (1, 1)]\n",
            "Centroid shift 0.7071067811865476\n",
            "Centroid shift 0.7071067811865476\n",
            "\n",
            "Final clusters\n"
          ]
        },
        {
          "output_type": "display_data",
          "data": {
            "text/plain": [
              "[(2, 3)]"
            ]
          },
          "metadata": {}
        },
        {
          "output_type": "display_data",
          "data": {
            "text/plain": [
              "[(6, 8)]"
            ]
          },
          "metadata": {}
        },
        {
          "output_type": "stream",
          "name": "stdout",
          "text": [
            "Final outliers\n"
          ]
        },
        {
          "output_type": "display_data",
          "data": {
            "text/plain": [
              "[(1, 2), (2, 2), (5, 6), (6, 7), (7, 11), (1, 1)]"
            ]
          },
          "metadata": {}
        }
      ]
    },
    {
      "cell_type": "code",
      "source": [],
      "metadata": {
        "id": "DHJWZ5V08z3x"
      },
      "execution_count": 7,
      "outputs": []
    },
    {
      "cell_type": "code",
      "source": [],
      "metadata": {
        "id": "yLccrD4S8z10"
      },
      "execution_count": 7,
      "outputs": []
    },
    {
      "cell_type": "code",
      "source": [],
      "metadata": {
        "id": "_SSkoZIn8zzN"
      },
      "execution_count": 7,
      "outputs": []
    }
  ]
}