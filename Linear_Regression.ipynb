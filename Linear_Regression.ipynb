{
  "nbformat": 4,
  "nbformat_minor": 0,
  "metadata": {
    "colab": {
      "provenance": [],
      "authorship_tag": "ABX9TyOFDB7+uZ5wK4JVXDn2NpQA"
    },
    "kernelspec": {
      "name": "python3",
      "display_name": "Python 3"
    },
    "language_info": {
      "name": "python"
    }
  },
  "cells": [
    {
      "cell_type": "code",
      "source": [
        "# imports\n",
        "import math"
      ],
      "metadata": {
        "id": "G0ArYbgdb8Lu"
      },
      "execution_count": null,
      "outputs": []
    },
    {
      "cell_type": "code",
      "execution_count": null,
      "metadata": {
        "id": "fHjTbZJTaBdA"
      },
      "outputs": [],
      "source": [
        "# Calculating slope and intercept\n",
        "\n",
        "def slope_intercept(n, s):\n",
        "  x_total = 0\n",
        "  y_total = 0\n",
        "  print(s)\n",
        "  for (x, y) in s:\n",
        "    x_total += int(x)\n",
        "    y_total += int(y)\n",
        "\n",
        "  print(type(x_total))\n",
        "  x_avg = x_total/n\n",
        "  y_avg = y_total/n\n",
        "\n",
        "  sigma_x_num = 0\n",
        "  covariance_xy_num = 0\n",
        "  for (x, y) in s:\n",
        "    sigma_x_num += math.pow((x - x_avg), 2)\n",
        "    covariance_xy_num += (x-x_avg)*(y-y_avg)\n",
        "\n",
        "  sigma_x = sigma_x_num/(n-1)\n",
        "  covariance_xy = covariance_xy_num/(n-1)\n",
        "\n",
        "  slope = covariance_xy/sigma_x\n",
        "  intercept = y_avg - slope*x_avg\n",
        "  print(\"The linear regression equation is y =\", slope, \"* x + \", intercept)\n",
        "  return (slope, intercept)\n",
        "\n"
      ]
    },
    {
      "cell_type": "code",
      "source": [
        "# Linear Regression equation\n",
        "def linear_regression_equation(slope, intercept, x):\n",
        "  y = slope * float(x) + intercept\n",
        "  return y\n"
      ],
      "metadata": {
        "id": "PhdeImcDb7BA"
      },
      "execution_count": null,
      "outputs": []
    },
    {
      "cell_type": "code",
      "source": [
        "# Taking inputs\n",
        "n = int(input(\"Enter n value \"))\n",
        "print(\"Enter a sequence of\", n, \"value pairs in x1 y1, x2 y2... format\")\n",
        "seq = input()\n",
        "\n",
        "# s = 1 3,2 7,3 5,4 9,5 11,6 12,7 15\n",
        "# n = 7"
      ],
      "metadata": {
        "colab": {
          "base_uri": "https://localhost:8080/"
        },
        "id": "GeIUsoxQdhL-",
        "outputId": "fbe84b38-d209-499f-ca19-141335e5dc40"
      },
      "execution_count": null,
      "outputs": [
        {
          "name": "stdout",
          "output_type": "stream",
          "text": [
            "Enter n value 7\n",
            "Enter a sequence of 7 value pairs in x1 y1, x2 y2... format\n",
            "1 3,2 7,3 5,4 9,5 11,6 12,7 15\n"
          ]
        }
      ]
    },
    {
      "cell_type": "code",
      "source": [
        "# Processing inputs\n",
        "print(seq)\n",
        "l = seq.split(\",\")\n",
        "print(l)\n",
        "s = [tuple([int(i) for i in x.split()]) for x in l]\n",
        "print(s)"
      ],
      "metadata": {
        "colab": {
          "base_uri": "https://localhost:8080/"
        },
        "id": "yEWP-tmmiiOS",
        "outputId": "5461c80c-a2cd-44a5-def0-b9bf0aaae711"
      },
      "execution_count": null,
      "outputs": [
        {
          "output_type": "stream",
          "name": "stdout",
          "text": [
            "1 3,2 7,3 5,4 9,5 11,6 12,7 15\n",
            "['1 3', '2 7', '3 5', '4 9', '5 11', '6 12', '7 15']\n",
            "[(1, 3), (2, 7), (3, 5), (4, 9), (5, 11), (6, 12), (7, 15)]\n"
          ]
        }
      ]
    },
    {
      "cell_type": "code",
      "source": [
        "# Main execution\n",
        "\n",
        "(slope, intercept) = slope_intercept(n, s)\n",
        "x = input(\"Enter any new x value \")\n",
        "y = linear_regression_equation(slope, intercept, x)\n",
        "print(\"y val for\", x, \"is\", y)"
      ],
      "metadata": {
        "colab": {
          "base_uri": "https://localhost:8080/"
        },
        "id": "bzO6CYYhdhDH",
        "outputId": "48a1db8e-2674-4b3c-dc0f-de15adbe0919"
      },
      "execution_count": null,
      "outputs": [
        {
          "output_type": "stream",
          "name": "stdout",
          "text": [
            "[(1, 3), (2, 7), (3, 5), (4, 9), (5, 11), (6, 12), (7, 15)]\n",
            "<class 'int'>\n",
            "The linear regression equation is y = 1.857142857142857 * x +  1.4285714285714297\n",
            "Enter any new x value 7\n",
            "y val for 7 is 14.428571428571427\n"
          ]
        }
      ]
    }
  ]
}