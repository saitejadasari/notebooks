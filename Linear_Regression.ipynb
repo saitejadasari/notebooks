{
  "nbformat": 4,
  "nbformat_minor": 0,
  "metadata": {
    "colab": {
      "provenance": [],
      "authorship_tag": "ABX9TyOG9mqNFitE280niyLQKAoe"
    },
    "kernelspec": {
      "name": "python3",
      "display_name": "Python 3"
    },
    "language_info": {
      "name": "python"
    }
  },
  "cells": [
    {
      "cell_type": "code",
      "source": [
        "# imports\n",
        "import math\n",
        "import matplotlib.pyplot as plt"
      ],
      "metadata": {
        "id": "G0ArYbgdb8Lu"
      },
      "execution_count": 2,
      "outputs": []
    },
    {
      "cell_type": "code",
      "execution_count": 3,
      "metadata": {
        "id": "fHjTbZJTaBdA"
      },
      "outputs": [],
      "source": [
        "# Calculating slope and intercept\n",
        "\n",
        "def slope_intercept(n, s):\n",
        "  x_total = 0\n",
        "  y_total = 0\n",
        "  print(s)\n",
        "  for (x, y) in s:\n",
        "    x_total += int(x)\n",
        "    y_total += int(y)\n",
        "\n",
        "  print(type(x_total))\n",
        "  x_avg = x_total/n\n",
        "  y_avg = y_total/n\n",
        "\n",
        "  sigma_x_num = 0\n",
        "  covariance_xy_num = 0\n",
        "  for (x, y) in s:\n",
        "    sigma_x_num += math.pow((x - x_avg), 2)\n",
        "    covariance_xy_num += (x-x_avg)*(y-y_avg)\n",
        "\n",
        "  sigma_x = sigma_x_num/(n-1)\n",
        "  covariance_xy = covariance_xy_num/(n-1)\n",
        "\n",
        "  slope = covariance_xy/sigma_x\n",
        "  intercept = y_avg - slope*x_avg\n",
        "  print(\"The linear regression equation is y =\", slope, \"* x + \", intercept)\n",
        "  return (slope, intercept)\n",
        "\n"
      ]
    },
    {
      "cell_type": "code",
      "source": [
        "# Linear Regression equation\n",
        "def linear_regression_equation(slope, intercept, x):\n",
        "  y = slope * float(x) + intercept\n",
        "  return y\n"
      ],
      "metadata": {
        "id": "PhdeImcDb7BA"
      },
      "execution_count": 4,
      "outputs": []
    },
    {
      "cell_type": "code",
      "source": [
        "# Taking inputs\n",
        "n = int(input(\"Enter n value \"))\n",
        "print(\"Enter a sequence of\", n, \"value pairs in x1 y1, x2 y2... format\")\n",
        "seq = input()\n",
        "\n",
        "# s = 1 3,2 7,3 5,4 9,5 11,6 12,7 15\n",
        "# n = 7"
      ],
      "metadata": {
        "colab": {
          "base_uri": "https://localhost:8080/"
        },
        "id": "GeIUsoxQdhL-",
        "outputId": "595eab2c-4221-4889-c3c8-2dc663b99ad5"
      },
      "execution_count": 5,
      "outputs": [
        {
          "name": "stdout",
          "output_type": "stream",
          "text": [
            "Enter n value 7\n",
            "Enter a sequence of 7 value pairs in x1 y1, x2 y2... format\n",
            "1 3,2 7,3 5,4 9,5 11,6 12,7 15\n"
          ]
        }
      ]
    },
    {
      "cell_type": "code",
      "source": [
        "# Processing inputs\n",
        "print(seq)\n",
        "l = seq.split(\",\")\n",
        "print(l)\n",
        "s = [tuple([int(i) for i in x.split()]) for x in l]\n",
        "print(s)"
      ],
      "metadata": {
        "colab": {
          "base_uri": "https://localhost:8080/"
        },
        "id": "yEWP-tmmiiOS",
        "outputId": "089a93c3-a9c1-4763-bfb5-3a359effb79e"
      },
      "execution_count": 6,
      "outputs": [
        {
          "output_type": "stream",
          "name": "stdout",
          "text": [
            "1 3,2 7,3 5,4 9,5 11,6 12,7 15\n",
            "['1 3', '2 7', '3 5', '4 9', '5 11', '6 12', '7 15']\n",
            "[(1, 3), (2, 7), (3, 5), (4, 9), (5, 11), (6, 12), (7, 15)]\n"
          ]
        }
      ]
    },
    {
      "cell_type": "code",
      "source": [
        "# Main execution\n",
        "\n",
        "(slope, intercept) = slope_intercept(n, s)\n",
        "x = input(\"Enter any new x value \")\n",
        "y = linear_regression_equation(slope, intercept, x)\n",
        "print(\"y val for\", x, \"is\", y)"
      ],
      "metadata": {
        "colab": {
          "base_uri": "https://localhost:8080/"
        },
        "id": "bzO6CYYhdhDH",
        "outputId": "2980577a-ee1b-442e-dc50-33b8b35e63b9"
      },
      "execution_count": 7,
      "outputs": [
        {
          "output_type": "stream",
          "name": "stdout",
          "text": [
            "[(1, 3), (2, 7), (3, 5), (4, 9), (5, 11), (6, 12), (7, 15)]\n",
            "<class 'int'>\n",
            "The linear regression equation is y = 1.857142857142857 * x +  1.4285714285714297\n",
            "Enter any new x value 4\n",
            "y val for 4 is 8.857142857142858\n"
          ]
        }
      ]
    },
    {
      "cell_type": "code",
      "source": [
        "# Plotting\n",
        "\n",
        "x_new = np.linspace(0, 10, 20)\n",
        "y_new = [linear_regression_equation(slope, intercept, i) for i in x_new]\n",
        "\n",
        "plt.figure(figsize=(7, 5))\n",
        "ax = plt.axes()\n",
        "ax.scatter([x for (x, y) in s], [y for (x, y) in s])\n",
        "ax.plot(x_new, y_new)\n",
        "\n",
        "ax.set_xlabel('x')\n",
        "ax.set_ylabel('y')\n",
        "\n",
        "plt.show()"
      ],
      "metadata": {
        "colab": {
          "base_uri": "https://localhost:8080/",
          "height": 334
        },
        "id": "DhEgAZBLgS3f",
        "outputId": "876e41a0-db5a-4aa8-feb2-c680c9395345"
      },
      "execution_count": 20,
      "outputs": [
        {
          "output_type": "display_data",
          "data": {
            "text/plain": [
              "<Figure size 504x360 with 1 Axes>"
            ],
            "image/png": "[encoded data removed]"
          },
          "metadata": {
            "needs_background": "light"
          }
        }
      ]
    },
    {
      "cell_type": "code",
      "source": [],
      "metadata": {
        "id": "WDww7IDWgS0X"
      },
      "execution_count": 8,
      "outputs": []
    },
    {
      "cell_type": "code",
      "source": [
        "import numpy as np\n",
        "import matplotlib.pyplot as plt\n",
        "from sklearn.linear_model import LinearRegression\n",
        "\n",
        "x = 30 * np.random.random((20, 1))\n",
        "\n",
        "y = 0.5 * x + 1.0 + np.random.normal(size=x.shape)\n",
        "\n",
        "model = LinearRegression()\n",
        "model.fit(x, y)\n",
        "\n",
        "x_new = np.linspace(0, 30, 100)\n",
        "y_new = model.predict(x_new[:, np.newaxis])\n",
        "\n",
        "print(\"x_new\", x_new)\n",
        "print(\"y_new\", y_new)\n",
        "plt.figure(figsize=(4, 3))\n",
        "ax = plt.axes()\n",
        "ax.scatter(x, y)\n",
        "ax.plot(x_new, y_new)\n",
        "\n",
        "ax.set_xlabel('x')\n",
        "ax.set_ylabel('y')\n",
        "\n",
        "ax.axis('tight')\n",
        "\n",
        "plt.show()"
      ],
      "metadata": {
        "colab": {
          "base_uri": "https://localhost:8080/",
          "height": 1000
        },
        "id": "F3VdtLqmhmRo",
        "outputId": "f7eae7ab-03b0-42a1-88b1-2ef545321965"
      },
      "execution_count": 13,
      "outputs": [
        {
          "output_type": "stream",
          "name": "stdout",
          "text": [
            "x_new [ 0.          0.3030303   0.60606061  0.90909091  1.21212121  1.51515152\n",
            "  1.81818182  2.12121212  2.42424242  2.72727273  3.03030303  3.33333333\n",
            "  3.63636364  3.93939394  4.24242424  4.54545455  4.84848485  5.15151515\n",
            "  5.45454545  5.75757576  6.06060606  6.36363636  6.66666667  6.96969697\n",
            "  7.27272727  7.57575758  7.87878788  8.18181818  8.48484848  8.78787879\n",
            "  9.09090909  9.39393939  9.6969697  10.         10.3030303  10.60606061\n",
            " 10.90909091 11.21212121 11.51515152 11.81818182 12.12121212 12.42424242\n",
            " 12.72727273 13.03030303 13.33333333 13.63636364 13.93939394 14.24242424\n",
            " 14.54545455 14.84848485 15.15151515 15.45454545 15.75757576 16.06060606\n",
            " 16.36363636 16.66666667 16.96969697 17.27272727 17.57575758 17.87878788\n",
            " 18.18181818 18.48484848 18.78787879 19.09090909 19.39393939 19.6969697\n",
            " 20.         20.3030303  20.60606061 20.90909091 21.21212121 21.51515152\n",
            " 21.81818182 22.12121212 22.42424242 22.72727273 23.03030303 23.33333333\n",
            " 23.63636364 23.93939394 24.24242424 24.54545455 24.84848485 25.15151515\n",
            " 25.45454545 25.75757576 26.06060606 26.36363636 26.66666667 26.96969697\n",
            " 27.27272727 27.57575758 27.87878788 28.18181818 28.48484848 28.78787879\n",
            " 29.09090909 29.39393939 29.6969697  30.        ]\n",
            "y_new [[ 1.22162227]\n",
            " [ 1.37384569]\n",
            " [ 1.52606912]\n",
            " [ 1.67829254]\n",
            " [ 1.83051596]\n",
            " [ 1.98273939]\n",
            " [ 2.13496281]\n",
            " [ 2.28718624]\n",
            " [ 2.43940966]\n",
            " [ 2.59163308]\n",
            " [ 2.74385651]\n",
            " [ 2.89607993]\n",
            " [ 3.04830336]\n",
            " [ 3.20052678]\n",
            " [ 3.35275021]\n",
            " [ 3.50497363]\n",
            " [ 3.65719705]\n",
            " [ 3.80942048]\n",
            " [ 3.9616439 ]\n",
            " [ 4.11386733]\n",
            " [ 4.26609075]\n",
            " [ 4.41831417]\n",
            " [ 4.5705376 ]\n",
            " [ 4.72276102]\n",
            " [ 4.87498445]\n",
            " [ 5.02720787]\n",
            " [ 5.1794313 ]\n",
            " [ 5.33165472]\n",
            " [ 5.48387814]\n",
            " [ 5.63610157]\n",
            " [ 5.78832499]\n",
            " [ 5.94054842]\n",
            " [ 6.09277184]\n",
            " [ 6.24499527]\n",
            " [ 6.39721869]\n",
            " [ 6.54944211]\n",
            " [ 6.70166554]\n",
            " [ 6.85388896]\n",
            " [ 7.00611239]\n",
            " [ 7.15833581]\n",
            " [ 7.31055923]\n",
            " [ 7.46278266]\n",
            " [ 7.61500608]\n",
            " [ 7.76722951]\n",
            " [ 7.91945293]\n",
            " [ 8.07167636]\n",
            " [ 8.22389978]\n",
            " [ 8.3761232 ]\n",
            " [ 8.52834663]\n",
            " [ 8.68057005]\n",
            " [ 8.83279348]\n",
            " [ 8.9850169 ]\n",
            " [ 9.13724032]\n",
            " [ 9.28946375]\n",
            " [ 9.44168717]\n",
            " [ 9.5939106 ]\n",
            " [ 9.74613402]\n",
            " [ 9.89835745]\n",
            " [10.05058087]\n",
            " [10.20280429]\n",
            " [10.35502772]\n",
            " [10.50725114]\n",
            " [10.65947457]\n",
            " [10.81169799]\n",
            " [10.96392142]\n",
            " [11.11614484]\n",
            " [11.26836826]\n",
            " [11.42059169]\n",
            " [11.57281511]\n",
            " [11.72503854]\n",
            " [11.87726196]\n",
            " [12.02948538]\n",
            " [12.18170881]\n",
            " [12.33393223]\n",
            " [12.48615566]\n",
            " [12.63837908]\n",
            " [12.79060251]\n",
            " [12.94282593]\n",
            " [13.09504935]\n",
            " [13.24727278]\n",
            " [13.3994962 ]\n",
            " [13.55171963]\n",
            " [13.70394305]\n",
            " [13.85616648]\n",
            " [14.0083899 ]\n",
            " [14.16061332]\n",
            " [14.31283675]\n",
            " [14.46506017]\n",
            " [14.6172836 ]\n",
            " [14.76950702]\n",
            " [14.92173044]\n",
            " [15.07395387]\n",
            " [15.22617729]\n",
            " [15.37840072]\n",
            " [15.53062414]\n",
            " [15.68284757]\n",
            " [15.83507099]\n",
            " [15.98729441]\n",
            " [16.13951784]\n",
            " [16.29174126]]\n"
          ]
        },
        {
          "output_type": "display_data",
          "data": {
            "text/plain": [
              "<Figure size 288x216 with 1 Axes>"
            ],
            "image/png": "[encoded data removed]"
          },
          "metadata": {
            "needs_background": "light"
          }
        }
      ]
    }
  ]
}