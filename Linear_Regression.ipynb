{
  "nbformat": 4,
  "nbformat_minor": 0,
  "metadata": {
    "colab": {
      "provenance": [],
      "authorship_tag": "ABX9TyONqY3Jt+vL1hjriVz1gCol"
    },
    "kernelspec": {
      "name": "python3",
      "display_name": "Python 3"
    },
    "language_info": {
      "name": "python"
    }
  },
  "cells": [
    {
      "cell_type": "code",
      "source": [
        "# imports\n",
        "import math\n",
        "import numpy as np\n",
        "import matplotlib.pyplot as plt"
      ],
      "metadata": {
        "id": "G0ArYbgdb8Lu"
      },
      "execution_count": null,
      "outputs": []
    },
    {
      "cell_type": "code",
      "execution_count": null,
      "metadata": {
        "id": "fHjTbZJTaBdA"
      },
      "outputs": [],
      "source": [
        "# Calculating slope and intercept\n",
        "\n",
        "def slope_intercept(n, s):\n",
        "  x_total = 0\n",
        "  y_total = 0\n",
        "  print(s)\n",
        "  for (x, y) in s:\n",
        "    x_total += int(x)\n",
        "    y_total += int(y)\n",
        "\n",
        "  print(type(x_total))\n",
        "  x_avg = x_total/n\n",
        "  y_avg = y_total/n\n",
        "\n",
        "  sigma_x_num = 0\n",
        "  covariance_xy_num = 0\n",
        "  for (x, y) in s:\n",
        "    sigma_x_num += math.pow((x - x_avg), 2)\n",
        "    covariance_xy_num += (x-x_avg)*(y-y_avg)\n",
        "\n",
        "  sigma_x = sigma_x_num/(n-1)\n",
        "  covariance_xy = covariance_xy_num/(n-1)\n",
        "\n",
        "  slope = covariance_xy/sigma_x\n",
        "  intercept = y_avg - slope*x_avg\n",
        "  print(\"The linear regression equation is y =\", slope, \"* x + \", intercept)\n",
        "  return (slope, intercept)\n",
        "\n"
      ]
    },
    {
      "cell_type": "code",
      "source": [
        "# Linear Regression equation\n",
        "def linear_regression_equation(slope, intercept, x):\n",
        "  y = slope * float(x) + intercept\n",
        "  return y\n"
      ],
      "metadata": {
        "id": "PhdeImcDb7BA"
      },
      "execution_count": null,
      "outputs": []
    },
    {
      "cell_type": "code",
      "source": [
        "# Taking inputs\n",
        "n = int(input(\"Enter n value \"))\n",
        "print(\"Enter a sequence of\", n, \"value pairs in x1 y1, x2 y2... format\")\n",
        "seq = input()\n",
        "\n",
        "# s = 1 3,2 7,3 5,4 9,5 11,6 12,7 15\n",
        "# n = 7"
      ],
      "metadata": {
        "colab": {
          "base_uri": "https://localhost:8080/"
        },
        "id": "GeIUsoxQdhL-",
        "outputId": "fe85b461-6f53-4665-9a5f-6f644d40131f"
      },
      "execution_count": null,
      "outputs": [
        {
          "name": "stdout",
          "output_type": "stream",
          "text": [
            "Enter n value 7\n",
            "Enter a sequence of 7 value pairs in x1 y1, x2 y2... format\n",
            "1 3,2 7,3 5,4 9,5 11,6 12,7 15\n"
          ]
        }
      ]
    },
    {
      "cell_type": "code",
      "source": [
        "# Processing inputs\n",
        "print(seq)\n",
        "l = seq.split(\",\")\n",
        "print(l)\n",
        "s = [tuple([int(i) for i in x.split()]) for x in l]\n",
        "print(s)"
      ],
      "metadata": {
        "colab": {
          "base_uri": "https://localhost:8080/"
        },
        "id": "yEWP-tmmiiOS",
        "outputId": "8683f3b6-3c31-4c9c-c9ce-da1b390c1061"
      },
      "execution_count": null,
      "outputs": [
        {
          "output_type": "stream",
          "name": "stdout",
          "text": [
            "1 3,2 7,3 5,4 9,5 11,6 12,7 15\n",
            "['1 3', '2 7', '3 5', '4 9', '5 11', '6 12', '7 15']\n",
            "[(1, 3), (2, 7), (3, 5), (4, 9), (5, 11), (6, 12), (7, 15)]\n"
          ]
        }
      ]
    },
    {
      "cell_type": "code",
      "source": [
        "# Main execution\n",
        "\n",
        "(slope, intercept) = slope_intercept(n, s)\n",
        "x = input(\"Enter any new x value \")\n",
        "y = linear_regression_equation(slope, intercept, x)\n",
        "print(\"y val for\", x, \"is\", y)"
      ],
      "metadata": {
        "colab": {
          "base_uri": "https://localhost:8080/"
        },
        "id": "bzO6CYYhdhDH",
        "outputId": "62534725-f3a3-46b0-bbba-6faf243bdced"
      },
      "execution_count": null,
      "outputs": [
        {
          "output_type": "stream",
          "name": "stdout",
          "text": [
            "[(1, 3), (2, 7), (3, 5), (4, 9), (5, 11), (6, 12), (7, 15)]\n",
            "<class 'int'>\n",
            "The linear regression equation is y = 1.857142857142857 * x +  1.4285714285714297\n",
            "Enter any new x value 7\n",
            "y val for 7 is 14.428571428571427\n"
          ]
        }
      ]
    },
    {
      "cell_type": "code",
      "source": [
        "# Plotting\n",
        "\n",
        "x_new = np.linspace(0, 10, 20)\n",
        "y_new = [linear_regression_equation(slope, intercept, i) for i in x_new]\n",
        "\n",
        "plt.figure(figsize=(7, 5))\n",
        "ax = plt.axes()\n",
        "ax.scatter([x for (x, y) in s], [y for (x, y) in s])\n",
        "ax.plot(x_new, y_new)\n",
        "\n",
        "ax.set_xlabel('x')\n",
        "ax.set_ylabel('y')\n",
        "\n",
        "plt.show()"
      ],
      "metadata": {
        "colab": {
          "base_uri": "https://localhost:8080/",
          "height": 334
        },
        "id": "DhEgAZBLgS3f",
        "outputId": "676e1170-77ac-4968-fc91-c60fee87d98b"
      },
      "execution_count": null,
      "outputs": [
        {
          "output_type": "display_data",
          "data": {
            "text/plain": [
              "<Figure size 504x360 with 1 Axes>"
            ],
            "image/png": "[encoded data removed]"
          },
          "metadata": {
            "needs_background": "light"
          }
        }
      ]
    },
    {
      "cell_type": "code",
      "source": [],
      "metadata": {
        "id": "WDww7IDWgS0X"
      },
      "execution_count": null,
      "outputs": []
    },
    {
      "cell_type": "code",
      "source": [
        "\n",
        "from sklearn.linear_model import LinearRegression\n",
        "\n",
        "# x = 30 * np.random.random((20, 1))\n",
        "\n",
        "# y = 0.5 * x + 1.0 + np.random.normal(size=x.shape)\n",
        "\n",
        "\n",
        "x = np.array([x for (x, y) in s]).reshape(len(s), 1)\n",
        "y =  np.array([y for (x, y) in s]).reshape(len(s), 1)\n",
        "\n",
        "\n",
        "model = LinearRegression()\n",
        "model.fit(x, y)\n",
        "\n",
        "print(\"coeff\", model.coef_, \"slope\", model.intercept_)\n",
        "x_new = np.linspace(0, 10, 100)\n",
        "y_new = model.predict(x_new[:, np.newaxis])\n",
        "\n",
        "# print(\"x_new\", x_new)\n",
        "# print(\"y_new\", y_new)\n",
        "plt.figure(figsize=(4, 3))\n",
        "ax = plt.axes()\n",
        "ax.scatter(x, y)\n",
        "ax.plot(x_new, y_new)\n",
        "\n",
        "ax.set_xlabel('x')\n",
        "ax.set_ylabel('y')\n",
        "\n",
        "ax.axis('tight')\n",
        "\n",
        "plt.show()"
      ],
      "metadata": {
        "colab": {
          "base_uri": "https://localhost:8080/",
          "height": 242
        },
        "id": "F3VdtLqmhmRo",
        "outputId": "c503963f-680c-49e2-cd2a-dc87831b3a71"
      },
      "execution_count": null,
      "outputs": [
        {
          "output_type": "stream",
          "name": "stdout",
          "text": [
            "coeff [[1.85714286]] slope [1.42857143]\n"
          ]
        },
        {
          "output_type": "display_data",
          "data": {
            "text/plain": [
              "<Figure size 288x216 with 1 Axes>"
            ],
            "image/png": "[encoded data removed]"
          },
          "metadata": {
            "needs_background": "light"
          }
        }
      ]
    }
  ]
}