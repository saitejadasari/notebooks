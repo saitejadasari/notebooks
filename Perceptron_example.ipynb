{
  "nbformat": 4,
  "nbformat_minor": 0,
  "metadata": {
    "colab": {
      "provenance": [],
      "authorship_tag": "ABX9TyNdpHudRsc7vEFVa2smU0/d",
      "include_colab_link": true
    },
    "kernelspec": {
      "name": "python3",
      "display_name": "Python 3"
    },
    "language_info": {
      "name": "python"
    }
  },
  "cells": [
    {
      "cell_type": "markdown",
      "metadata": {
        "id": "view-in-github",
        "colab_type": "text"
      },
      "source": [
        "<a href=\"https://colab.research.google.com/github/saitejadasari/notebooks/blob/main/Perceptron_example.ipynb\" target=\"_parent\"><img src=\"https://colab.research.google.com/assets/colab-badge.svg\" alt=\"Open In Colab\"/></a>"
      ]
    },
    {
      "cell_type": "code",
      "source": [
        "# https://towardsdatascience.com/first-neural-network-for-beginners-explained-with-code-4cfd37e06eaf"
      ],
      "metadata": {
        "id": "bzKsG-ZAfu1W"
      },
      "execution_count": null,
      "outputs": []
    },
    {
      "cell_type": "code",
      "execution_count": null,
      "metadata": {
        "colab": {
          "base_uri": "https://localhost:8080/"
        },
        "id": "Dt0sd7QKP3Yc",
        "outputId": "4dcb0a1d-bbfd-406d-f6bd-cabda46dc727"
      },
      "outputs": [
        {
          "output_type": "stream",
          "name": "stdout",
          "text": [
            "weights [0.19883893176232648, 0.616511335428076, 0.02773363317780919]\n"
          ]
        }
      ],
      "source": [
        "import numpy, random\n",
        "lr = 1 #learning rate\n",
        "bias = 1 #value of bias\n",
        "weights = [random.random(),random.random(),random.random()] #weights generated in a list (3 weights in total for 2 neurons and the bias)\n",
        "print(\"weights\", weights)"
      ]
    },
    {
      "cell_type": "code",
      "source": [
        "def Perceptron(input1, input2, output) :\n",
        "   outputP = input1*weights[0]+input2*weights[1]+bias*weights[2]\n",
        "\n",
        "   # Activation function - step function\n",
        "  #  if outputP > 0 : #activation function (here Heaviside)\n",
        "  #     outputP = 1\n",
        "  #  else :\n",
        "  #     outputP = 0\n",
        "\n",
        "   # Activation function - sigmoid function  \n",
        "   outputP = 1/(1+numpy.exp(-outputP))\n",
        "   \n",
        "   error = output - outputP\n",
        "   weights[0] += error * input1 * lr\n",
        "   weights[1] += error * input2 * lr\n",
        "   weights[2] += error * bias * lr"
      ],
      "metadata": {
        "id": "i7HZIqw-S5j2"
      },
      "execution_count": null,
      "outputs": []
    },
    {
      "cell_type": "code",
      "source": [
        "for i in range(50) :\n",
        "   Perceptron(1,1,1) #True or true\n",
        "   Perceptron(1,0,1) #True or false\n",
        "   Perceptron(0,1,1) #False or true\n",
        "   Perceptron(0,0,0) #False or false"
      ],
      "metadata": {
        "id": "Uv0GL089TBHH"
      },
      "execution_count": null,
      "outputs": []
    },
    {
      "cell_type": "code",
      "source": [
        "x = int(input())\n",
        "y = int(input())\n",
        "print(\"updated weights\", weights)\n",
        "outputP = x*weights[0] + y*weights[1] + bias*weights[2]\n",
        "print(\"outputP\", outputP)\n",
        "if outputP > 0 : #activation function\n",
        "   outputP = 1\n",
        "else :\n",
        "   outputP = 0\n",
        "print(x, \"or\", y, \"is : \", outputP)"
      ],
      "metadata": {
        "colab": {
          "base_uri": "https://localhost:8080/"
        },
        "id": "YqgrU6jLTLOc",
        "outputId": "1f7f0435-05fc-4212-9a8d-ab288059a714"
      },
      "execution_count": null,
      "outputs": [
        {
          "output_type": "stream",
          "name": "stdout",
          "text": [
            "0\n",
            "0\n",
            "updated weights [5.584109617680378, 5.526099460290526, -2.3363811705411983]\n",
            "outputP -2.3363811705411983\n",
            "0 or 0 is :  0\n"
          ]
        }
      ]
    }
  ]
}