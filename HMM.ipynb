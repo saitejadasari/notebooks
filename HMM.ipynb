{
  "nbformat": 4,
  "nbformat_minor": 0,
  "metadata": {
    "colab": {
      "provenance": [],
      "authorship_tag": "ABX9TyNiN/fVAAuV0XH4dA6ivn/e"
    },
    "kernelspec": {
      "name": "python3",
      "display_name": "Python 3"
    },
    "language_info": {
      "name": "python"
    }
  },
  "cells": [
    {
      "cell_type": "code",
      "source": [
        "# Imports\n",
        "\n",
        "import math\n",
        "from itertools import product"
      ],
      "metadata": {
        "id": "6ZgeTCnyjzF8"
      },
      "execution_count": 1,
      "outputs": []
    },
    {
      "cell_type": "code",
      "source": [
        "def valid_emissions(seq_em, s_emission):\n",
        "  for ch in seq_em:\n",
        "    if ch not in s_emission:\n",
        "      return False\n",
        "  return True"
      ],
      "metadata": {
        "id": "YtfFhWyQeb48"
      },
      "execution_count": 2,
      "outputs": []
    },
    {
      "cell_type": "code",
      "source": [
        "def valid_transition(seq, m_tr, s_states, v_initial):\n",
        "  # print(\"validating path for\", seq)\n",
        "  n = len(seq)\n",
        "  m = 0\n",
        "  path_possible = True\n",
        "  j = s_states.index(seq[0])\n",
        "  if v_initial[j] <= 0:\n",
        "    path_possible = False\n",
        "  \n",
        "  s = 0\n",
        "  while m < n and s < len(seq)-1 and path_possible:\n",
        "    i = s_states.index(seq[s])\n",
        "    j = s_states.index(seq[s+1])\n",
        "    # seq = rest(seq)\n",
        "    s += 1\n",
        "    # print(\"transmission value is\",m_tr[i][j])\n",
        "    if abs(m_tr[i][j]) <= 0:\n",
        "      path_possible = False\n",
        "    m += 1\n",
        "  \n",
        "  return path_possible\n"
      ],
      "metadata": {
        "id": "hIFia79HebqP"
      },
      "execution_count": 3,
      "outputs": []
    },
    {
      "cell_type": "code",
      "source": [
        "def emission_set(e, m_emission, s_emission, s_states):\n",
        "  s_emission_set = []\n",
        "  j = s_emission.index(e)\n",
        "  for i in range(len(s_states)):\n",
        "    if abs(m_emission[i][j]) > 0:\n",
        "      s_emission_set.append(s_states[i])\n",
        "  print(\"Emission set for\", e, \"is \", s_emission_set)\n",
        "  return s_emission_set"
      ],
      "metadata": {
        "id": "XGP4pNlsjSlZ"
      },
      "execution_count": 4,
      "outputs": []
    },
    {
      "cell_type": "code",
      "source": [
        "def calculate_probability(seq_states, seq_emission, s_states, s_emission, m_tr, m_emission, v_initial):\n",
        "  n_seq = len(seq_states)\n",
        "  row_emission = s_states.index(seq_states[0])\n",
        "  col_emission = s_emission.index(seq_emission[0])\n",
        "  prob_path = v_initial[row_emission] * m_emission[row_emission][col_emission]\n",
        "  i = 0\n",
        "  while i<n_seq-1:\n",
        "    j = i+1\n",
        "    row_tr = s_states.index(seq_states[i])\n",
        "    col_tr = s_states.index(seq_states[j])\n",
        "    row_emission = col_tr\n",
        "    col_emission = s_emission.index(seq_emission[j])\n",
        "    prob_tr = m_tr[row_tr][col_tr]\n",
        "    prob_em = m_emission[row_emission][col_emission]\n",
        "    prob_path = prob_path * prob_em * prob_tr\n",
        "    i += 1\n",
        "  return prob_path"
      ],
      "metadata": {
        "id": "Zf9aV7Aoj3wl"
      },
      "execution_count": 5,
      "outputs": []
    },
    {
      "cell_type": "code",
      "execution_count": 6,
      "metadata": {
        "id": "2sfWy8e6n8zv"
      },
      "outputs": [],
      "source": [
        "# HMM\n",
        "s_cartesian = []\n",
        "def most_probable_path(s_states, s_emission, m_tr, m_emission, v_initial, seq_em):\n",
        "  n_states = len(s_states)\n",
        "  n_emission = len(s_emission)\n",
        "  get_path = True\n",
        "  while(get_path):\n",
        "    # seq_em = input(\"next emission sequence\")\n",
        "    if seq_em == 'exit':\n",
        "      get_path = False\n",
        "      return\n",
        "    s_prob_em = []\n",
        "    if valid_emissions(seq_em, s_emission):\n",
        "      s_transistion = {}\n",
        "      n_seq_em = len(seq_em)\n",
        "      i = 0\n",
        "      while i < n_seq_em:\n",
        "        x = seq_em[i]\n",
        "        s_prob_em.insert(i, emission_set(x, m_emission, s_emission, s_states))\n",
        "        i += 1\n",
        "      \n",
        "      s_cartesian = list(product(*s_prob_em)) # cartesian product\n",
        "      s_path = []\n",
        "      print(\"All possible transistions\", s_cartesian)\n",
        "      for path_seq in s_cartesian:\n",
        "        if valid_transition(path_seq, m_tr, s_states, v_initial):\n",
        "          s_path.append(path_seq)\n",
        "      \n",
        "      print(\"Valid paths\", s_path)\n",
        "      max_seq_em_path = None\n",
        "      max_seq_em_prob = 0\n",
        "\n",
        "      for path in s_path:\n",
        "        prob = calculate_probability(path, seq_em, s_states, s_emission, m_tr, m_emission, v_initial)\n",
        "        print(\"probability of path\", path, \"is\", prob)\n",
        "        if max_seq_em_prob < prob:\n",
        "          max_seq_em_prob = prob\n",
        "          max_seq_em_path = path\n",
        "\n",
        "      print(\"Most probable path is\", max_seq_em_path)\n",
        "      return max_seq_em_prob "
      ]
    },
    {
      "cell_type": "code",
      "source": [
        "# Problem in slides\n",
        "\n",
        "s_states = ['S1', 'S2', 'S3']\n",
        "s_emission = ['X', 'Y', 'Z']\n",
        "m_tr = [[0.0, 0.0, 1.0],\n",
        "        [0.4, 0.6, 0.0],\n",
        "        [0.7, 0.3, 0.0]]\n",
        "m_emission = [[0.4, 0, 0.6],\n",
        "              [0.2, 0.8, 0],\n",
        "              [0, 0.7, 0.3]]\n",
        "v_initial = [0.5, 0.5, 0]\n",
        "seq_em = ['X','X','Z']\n",
        "\n",
        "most_probable_path(s_states, s_emission, m_tr, m_emission, v_initial, seq_em)"
      ],
      "metadata": {
        "colab": {
          "base_uri": "https://localhost:8080/"
        },
        "id": "9k4e9J2jvuoa",
        "outputId": "551ed108-f3be-4d96-f1da-b4cb3c84b292"
      },
      "execution_count": 7,
      "outputs": [
        {
          "output_type": "stream",
          "name": "stdout",
          "text": [
            "Emission set for X is  ['S1', 'S2']\n",
            "Emission set for X is  ['S1', 'S2']\n",
            "Emission set for Z is  ['S1', 'S3']\n",
            "All possible transistions [('S1', 'S1', 'S1'), ('S1', 'S1', 'S3'), ('S1', 'S2', 'S1'), ('S1', 'S2', 'S3'), ('S2', 'S1', 'S1'), ('S2', 'S1', 'S3'), ('S2', 'S2', 'S1'), ('S2', 'S2', 'S3')]\n",
            "Valid paths [('S2', 'S1', 'S3'), ('S2', 'S2', 'S1')]\n",
            "probability of path ('S2', 'S1', 'S3') is 0.004800000000000001\n",
            "probability of path ('S2', 'S2', 'S1') is 0.0028800000000000006\n",
            "Most probable path is ('S2', 'S1', 'S3')\n"
          ]
        },
        {
          "output_type": "execute_result",
          "data": {
            "text/plain": [
              "0.004800000000000001"
            ]
          },
          "metadata": {},
          "execution_count": 7
        }
      ]
    },
    {
      "cell_type": "code",
      "source": [
        "# Problem in Assignment\n",
        "\n",
        "s_states = ['1', '2', '3', '4']\n",
        "s_emission = ['A', 'B', 'C', 'D']\n",
        "m_tr = [[0.2, 0.7, 0, 0.1],\n",
        "        [0, 0, 0.7, 0.3],\n",
        "        [0.2, 0.3, 0, 0.5],\n",
        "        [0, 0.5, 0.5, 0]]\n",
        "m_emission = [[0.6, 0.4, 0, 0],\n",
        "              [0.2, 0.2, 0.6, 0],\n",
        "              [0, 0, 0.2, 0.8],\n",
        "              [0.2, 0.4, 0.2, 0.2]]\n",
        "v_initial = [0.3, 0.4, 0.3, 0]\n",
        "seq_em = ['A','B','D', 'C']\n",
        "\n",
        "most_probable_path(s_states, s_emission, m_tr, m_emission, v_initial, seq_em)"
      ],
      "metadata": {
        "colab": {
          "base_uri": "https://localhost:8080/"
        },
        "id": "eSaaG9tMjFy3",
        "outputId": "424bb69c-7f6f-45e8-de6f-0432cfd8d3c3"
      },
      "execution_count": 8,
      "outputs": [
        {
          "output_type": "stream",
          "name": "stdout",
          "text": [
            "Emission set for A is  ['1', '2', '4']\n",
            "Emission set for B is  ['1', '2', '4']\n",
            "Emission set for D is  ['3', '4']\n",
            "Emission set for C is  ['2', '3', '4']\n",
            "All possible transistions [('1', '1', '3', '2'), ('1', '1', '3', '3'), ('1', '1', '3', '4'), ('1', '1', '4', '2'), ('1', '1', '4', '3'), ('1', '1', '4', '4'), ('1', '2', '3', '2'), ('1', '2', '3', '3'), ('1', '2', '3', '4'), ('1', '2', '4', '2'), ('1', '2', '4', '3'), ('1', '2', '4', '4'), ('1', '4', '3', '2'), ('1', '4', '3', '3'), ('1', '4', '3', '4'), ('1', '4', '4', '2'), ('1', '4', '4', '3'), ('1', '4', '4', '4'), ('2', '1', '3', '2'), ('2', '1', '3', '3'), ('2', '1', '3', '4'), ('2', '1', '4', '2'), ('2', '1', '4', '3'), ('2', '1', '4', '4'), ('2', '2', '3', '2'), ('2', '2', '3', '3'), ('2', '2', '3', '4'), ('2', '2', '4', '2'), ('2', '2', '4', '3'), ('2', '2', '4', '4'), ('2', '4', '3', '2'), ('2', '4', '3', '3'), ('2', '4', '3', '4'), ('2', '4', '4', '2'), ('2', '4', '4', '3'), ('2', '4', '4', '4'), ('4', '1', '3', '2'), ('4', '1', '3', '3'), ('4', '1', '3', '4'), ('4', '1', '4', '2'), ('4', '1', '4', '3'), ('4', '1', '4', '4'), ('4', '2', '3', '2'), ('4', '2', '3', '3'), ('4', '2', '3', '4'), ('4', '2', '4', '2'), ('4', '2', '4', '3'), ('4', '2', '4', '4'), ('4', '4', '3', '2'), ('4', '4', '3', '3'), ('4', '4', '3', '4'), ('4', '4', '4', '2'), ('4', '4', '4', '3'), ('4', '4', '4', '4')]\n",
            "Valid paths [('1', '1', '4', '2'), ('1', '1', '4', '3'), ('1', '2', '3', '2'), ('1', '2', '3', '4'), ('1', '2', '4', '2'), ('1', '2', '4', '3'), ('1', '4', '3', '2'), ('1', '4', '3', '4'), ('2', '4', '3', '2'), ('2', '4', '3', '4')]\n",
            "probability of path ('1', '1', '4', '2') is 8.64e-05\n",
            "probability of path ('1', '1', '4', '3') is 2.8800000000000002e-05\n",
            "probability of path ('1', '2', '3', '2') is 0.002540159999999999\n",
            "probability of path ('1', '2', '3', '4') is 0.0014111999999999998\n",
            "probability of path ('1', '2', '4', '2') is 0.00045359999999999986\n",
            "probability of path ('1', '2', '4', '3') is 0.0001512\n",
            "probability of path ('1', '4', '3', '2') is 0.0005184\n",
            "probability of path ('1', '4', '3', '4') is 0.000288\n",
            "probability of path ('2', '4', '3', '2') is 0.0006912000000000002\n",
            "probability of path ('2', '4', '3', '4') is 0.00038400000000000017\n",
            "Most probable path is ('1', '2', '3', '2')\n"
          ]
        },
        {
          "output_type": "execute_result",
          "data": {
            "text/plain": [
              "0.002540159999999999"
            ]
          },
          "metadata": {},
          "execution_count": 8
        }
      ]
    },
    {
      "cell_type": "code",
      "source": [
        "# problem in previous mid - 2018\n",
        "\n",
        "s_states = ['1', '2', '3']\n",
        "s_emission = ['X', 'Y', 'Z']\n",
        "m_tr = [[0.2, 0.4, 0.4],\n",
        "        [0.3, 0.0, 0.7],\n",
        "        [0.4, 0.0, 0.6]]\n",
        "m_emission = [[0.2, 0.4, 0.4],\n",
        "              [0, 0.3, 0.7],\n",
        "              [0.4, 0.1, 0.5]]\n",
        "v_initial = [0.4, 0.6, 0]\n",
        "seq_em = ['X','X','Z']\n",
        "\n",
        "most_probable_path(s_states, s_emission, m_tr, m_emission, v_initial, seq_em)"
      ],
      "metadata": {
        "colab": {
          "base_uri": "https://localhost:8080/"
        },
        "id": "jxhOOGCM0bcH",
        "outputId": "1f76e29d-7387-479b-b1e5-6efaed19d8df"
      },
      "execution_count": 9,
      "outputs": [
        {
          "output_type": "stream",
          "name": "stdout",
          "text": [
            "Emission set for X is  ['1', '3']\n",
            "Emission set for X is  ['1', '3']\n",
            "Emission set for Z is  ['1', '2', '3']\n",
            "All possible transistions [('1', '1', '1'), ('1', '1', '2'), ('1', '1', '3'), ('1', '3', '1'), ('1', '3', '2'), ('1', '3', '3'), ('3', '1', '1'), ('3', '1', '2'), ('3', '1', '3'), ('3', '3', '1'), ('3', '3', '2'), ('3', '3', '3')]\n",
            "Valid paths [('1', '1', '1'), ('1', '1', '2'), ('1', '1', '3'), ('1', '3', '1'), ('1', '3', '3')]\n",
            "probability of path ('1', '1', '1') is 0.0002560000000000001\n",
            "probability of path ('1', '1', '2') is 0.0008960000000000003\n",
            "probability of path ('1', '1', '3') is 0.0006400000000000003\n",
            "probability of path ('1', '3', '1') is 0.0020480000000000008\n",
            "probability of path ('1', '3', '3') is 0.003840000000000001\n",
            "Most probable path is ('1', '3', '3')\n"
          ]
        },
        {
          "output_type": "execute_result",
          "data": {
            "text/plain": [
              "0.003840000000000001"
            ]
          },
          "metadata": {},
          "execution_count": 9
        }
      ]
    }
  ]
}